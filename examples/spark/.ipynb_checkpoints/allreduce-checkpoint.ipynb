{
 "cells": [
  {
   "cell_type": "code",
   "execution_count": 1,
   "metadata": {
    "collapsed": true
   },
   "outputs": [],
   "source": [
    "from __future__ import print_function\n",
    "\n",
    "import os\n",
    "from datetime import timedelta, datetime, tzinfo\n",
    "import numpy as np"
   ]
  },
  {
   "cell_type": "markdown",
   "metadata": {},
   "source": [
    "Define the address of the PMI server and the number of MPI workers"
   ]
  },
  {
   "cell_type": "code",
   "execution_count": 2,
   "metadata": {
    "collapsed": true
   },
   "outputs": [],
   "source": [
    "pmi_port = 'Alienware-18:54133'\n",
    "partitions = 4"
   ]
  },
  {
   "cell_type": "markdown",
   "metadata": {},
   "source": [
    "Prepare a list of environmental variables"
   ]
  },
  {
   "cell_type": "code",
   "execution_count": 3,
   "metadata": {
    "collapsed": false
   },
   "outputs": [],
   "source": [
    "env = []\n",
    "for id in range(0, partitions):\n",
    "    kvs = {\n",
    "        'PMI_PORT' : pmi_port,\n",
    "        'PMI_ID' : id,\n",
    "    }\n",
    "    env.append(kvs)"
   ]
  },
  {
   "cell_type": "markdown",
   "metadata": {},
   "source": [
    "Create the rdd collection associated with the MPI workers"
   ]
  },
  {
   "cell_type": "code",
   "execution_count": 4,
   "metadata": {
    "collapsed": false
   },
   "outputs": [],
   "source": [
    "rdd = sc.parallelize(env, partitions)"
   ]
  },
  {
   "cell_type": "markdown",
   "metadata": {},
   "source": [
    "Define the MPI application"
   ]
  },
  {
   "cell_type": "code",
   "execution_count": 5,
   "metadata": {
    "collapsed": false
   },
   "outputs": [],
   "source": [
    "def allreduce(kvs):\n",
    "    \n",
    "     os.environ[\"PMI_PORT\"] = kvs[\"PMI_PORT\"]\n",
    "     os.environ[\"PMI_ID\"] = str(kvs[\"PMI_ID\"])\n",
    "    \n",
    "     from mpi4py import MPI\n",
    "    \n",
    "     comm = MPI.COMM_WORLD\n",
    "     rank = comm.Get_rank()\n",
    "   \n",
    "     # image\n",
    "\n",
    "     n = 2*1000000\n",
    "     sendbuf = np.arange(n, dtype=np.float32)\n",
    "     recvbuf = np.arange(n, dtype=np.float32)\n",
    "        \n",
    "     sendbuf[n-1] = 5.0;\n",
    "\n",
    "     t1 = datetime.now()    \n",
    "     comm.Allreduce(sendbuf, recvbuf, op=MPI.SUM)     \n",
    "     t2 = datetime.now()\n",
    "    \n",
    "     out = {\n",
    "        'rank' : rank,\n",
    "        'time' : (t2-t1), \n",
    "        'sum'  : recvbuf[n-1]\n",
    "     }\n",
    "     return out"
   ]
  },
  {
   "cell_type": "markdown",
   "metadata": {},
   "source": [
    "Run MPI application on Spark workers and collect the results"
   ]
  },
  {
   "cell_type": "code",
   "execution_count": 6,
   "metadata": {
    "collapsed": false
   },
   "outputs": [
    {
     "name": "stdout",
     "output_type": "stream",
     "text": [
      "rank:  0 , sum:  20.0 , processing time:  0:00:00.014500\n",
      "rank:  1 , sum:  20.0 , processing time:  0:00:00.015380\n",
      "rank:  2 , sum:  20.0 , processing time:  0:00:00.014479\n",
      "rank:  3 , sum:  20.0 , processing time:  0:00:00.015245\n"
     ]
    }
   ],
   "source": [
    "results = rdd.map(allreduce).collect()\n",
    "for out in results:\n",
    "    print (\"rank: \", out['rank'], \", sum: \", out['sum'], \", processing time: \", out['time'])"
   ]
  },
  {
   "cell_type": "code",
   "execution_count": null,
   "metadata": {
    "collapsed": true
   },
   "outputs": [],
   "source": []
  }
 ],
 "metadata": {
  "anaconda-cloud": {},
  "kernelspec": {
   "display_name": "Python [default]",
   "language": "python",
   "name": "python2"
  },
  "language_info": {
   "codemirror_mode": {
    "name": "ipython",
    "version": 2
   },
   "file_extension": ".py",
   "mimetype": "text/x-python",
   "name": "python",
   "nbconvert_exporter": "python",
   "pygments_lexer": "ipython2",
   "version": "2.7.12"
  }
 },
 "nbformat": 4,
 "nbformat_minor": 1
}
